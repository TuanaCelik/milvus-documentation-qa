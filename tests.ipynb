{
 "cells": [
  {
   "cell_type": "code",
   "execution_count": 1,
   "metadata": {},
   "outputs": [
    {
     "name": "stderr",
     "output_type": "stream",
     "text": [
      "/Users/tuanacelik/opt/anaconda3/envs/milvus/lib/python3.11/site-packages/tqdm/auto.py:21: TqdmWarning: IProgress not found. Please update jupyter and ipywidgets. See https://ipywidgets.readthedocs.io/en/stable/user_install.html\n",
      "  from .autonotebook import tqdm as notebook_tqdm\n"
     ]
    },
    {
     "ename": "CollectionAlreadyExists",
     "evalue": "<CollectionAlreadyExists: (code=1, message=)>",
     "output_type": "error",
     "traceback": [
      "\u001b[0;31m---------------------------------------------------------------------------\u001b[0m",
      "\u001b[0;31mCollectionAlreadyExists\u001b[0m                   Traceback (most recent call last)",
      "Cell \u001b[0;32mIn[1], line 3\u001b[0m\n\u001b[1;32m      1\u001b[0m \u001b[39mfrom\u001b[39;00m \u001b[39mmilvus_haystack\u001b[39;00m \u001b[39mimport\u001b[39;00m MilvusDocumentStore\n\u001b[0;32m----> 3\u001b[0m ds \u001b[39m=\u001b[39m MilvusDocumentStore()\n\u001b[1;32m      4\u001b[0m ds\u001b[39m.\u001b[39mget_document_count()\n",
      "File \u001b[0;32m~/opt/anaconda3/envs/milvus/lib/python3.11/site-packages/haystack/nodes/base.py:46\u001b[0m, in \u001b[0;36mexportable_to_yaml.<locals>.wrapper_exportable_to_yaml\u001b[0;34m(self, *args, **kwargs)\u001b[0m\n\u001b[1;32m     43\u001b[0m         \u001b[39mself\u001b[39m\u001b[39m.\u001b[39m_component_config[\u001b[39m\"\u001b[39m\u001b[39mparams\u001b[39m\u001b[39m\"\u001b[39m][k] \u001b[39m=\u001b[39m v\n\u001b[1;32m     45\u001b[0m \u001b[39m# Call the actuall __init__ function with all the arguments\u001b[39;00m\n\u001b[0;32m---> 46\u001b[0m init_func(\u001b[39mself\u001b[39;49m, \u001b[39m*\u001b[39;49margs, \u001b[39m*\u001b[39;49m\u001b[39m*\u001b[39;49mkwargs)\n",
      "File \u001b[0;32m~/opt/anaconda3/envs/milvus/lib/python3.11/site-packages/milvus_haystack/milvus.py:112\u001b[0m, in \u001b[0;36mMilvusDocumentStore.__init__\u001b[0;34m(self, uri, api_key, user, password, index, embedding_dim, similarity, index_params, return_embedding, progress_bar, consistency_level, replicas, recreate_index)\u001b[0m\n\u001b[1;32m    107\u001b[0m     \u001b[39mraise\u001b[39;00m \u001b[39mValueError\u001b[39;00m(\n\u001b[1;32m    108\u001b[0m         \u001b[39m\"\u001b[39m\u001b[39mThe Milvus document store can currently only support dot_product, cosine and euclidean metrics. \u001b[39m\u001b[39m\"\u001b[39m\n\u001b[1;32m    109\u001b[0m     )\n\u001b[1;32m    111\u001b[0m \u001b[39mself\u001b[39m\u001b[39m.\u001b[39mclient \u001b[39m=\u001b[39m SimpleAPI(uri\u001b[39m=\u001b[39muri, api_key\u001b[39m=\u001b[39mapi_key, user\u001b[39m=\u001b[39muser, password\u001b[39m=\u001b[39mpassword)\n\u001b[0;32m--> 112\u001b[0m \u001b[39mself\u001b[39;49m\u001b[39m.\u001b[39;49m_create_collection(index, recreate_index)\n",
      "File \u001b[0;32m~/opt/anaconda3/envs/milvus/lib/python3.11/site-packages/milvus_haystack/milvus.py:115\u001b[0m, in \u001b[0;36mMilvusDocumentStore._create_collection\u001b[0;34m(self, name, recreate_index)\u001b[0m\n\u001b[1;32m    114\u001b[0m \u001b[39mdef\u001b[39;00m \u001b[39m_create_collection\u001b[39m(\u001b[39mself\u001b[39m, name, recreate_index\u001b[39m=\u001b[39m\u001b[39mFalse\u001b[39;00m):\n\u001b[0;32m--> 115\u001b[0m     \u001b[39mself\u001b[39;49m\u001b[39m.\u001b[39;49mclient\u001b[39m.\u001b[39;49mcreate_collection(\n\u001b[1;32m    116\u001b[0m         collection_name\u001b[39m=\u001b[39;49mname,\n\u001b[1;32m    117\u001b[0m         dimension\u001b[39m=\u001b[39;49m\u001b[39mself\u001b[39;49m\u001b[39m.\u001b[39;49mdimension,\n\u001b[1;32m    118\u001b[0m         primary_field\u001b[39m=\u001b[39;49mID_FIELD,\n\u001b[1;32m    119\u001b[0m         primary_type\u001b[39m=\u001b[39;49m\u001b[39m\"\u001b[39;49m\u001b[39mstr\u001b[39;49m\u001b[39m\"\u001b[39;49m,\n\u001b[1;32m    120\u001b[0m         primary_auto_id\u001b[39m=\u001b[39;49m\u001b[39mFalse\u001b[39;49;00m,\n\u001b[1;32m    121\u001b[0m         vector_field\u001b[39m=\u001b[39;49mVECTOR_FIELD,\n\u001b[1;32m    122\u001b[0m         metric_type\u001b[39m=\u001b[39;49m\u001b[39mself\u001b[39;49m\u001b[39m.\u001b[39;49mmetric_type,\n\u001b[1;32m    123\u001b[0m         partition_field\u001b[39m=\u001b[39;49m{\u001b[39m\"\u001b[39;49m\u001b[39mname\u001b[39;49m\u001b[39m\"\u001b[39;49m: EMPTY_FIELD, \u001b[39m\"\u001b[39;49m\u001b[39mtype\u001b[39;49m\u001b[39m\"\u001b[39;49m: \u001b[39m\"\u001b[39;49m\u001b[39mint\u001b[39;49m\u001b[39m\"\u001b[39;49m},\n\u001b[1;32m    124\u001b[0m         index\u001b[39m=\u001b[39;49m\u001b[39mself\u001b[39;49m\u001b[39m.\u001b[39;49mindex_params,\n\u001b[1;32m    125\u001b[0m         overwrite\u001b[39m=\u001b[39;49mrecreate_index,\n\u001b[1;32m    126\u001b[0m         consistency_level\u001b[39m=\u001b[39;49m\u001b[39mself\u001b[39;49m\u001b[39m.\u001b[39;49mconsistency_level,\n\u001b[1;32m    127\u001b[0m         replicas\u001b[39m=\u001b[39;49m\u001b[39mself\u001b[39;49m\u001b[39m.\u001b[39;49mreplicas,\n\u001b[1;32m    128\u001b[0m     )\n",
      "File \u001b[0;32m~/opt/anaconda3/envs/milvus/lib/python3.11/site-packages/pymilvus_simple/simple_api.py:218\u001b[0m, in \u001b[0;36mSimpleAPI.create_collection\u001b[0;34m(self, collection_name, dimension, vector_field, primary_field, primary_type, primary_auto_id, metric_type, partition_field, index_params, overwrite, consistency_level, replicas, timeout, **kwargs)\u001b[0m\n\u001b[1;32m    214\u001b[0m         logger\u001b[39m.\u001b[39mdebug(\n\u001b[1;32m    215\u001b[0m             \u001b[39m\"\u001b[39m\u001b[39mDropping collection \u001b[39m\u001b[39m%s\u001b[39;00m\u001b[39m due to overwrite param.\u001b[39m\u001b[39m\"\u001b[39m, collection_name\n\u001b[1;32m    216\u001b[0m         )\n\u001b[1;32m    217\u001b[0m     \u001b[39melse\u001b[39;00m:\n\u001b[0;32m--> 218\u001b[0m         \u001b[39mraise\u001b[39;00m simple_exception\u001b[39m.\u001b[39mCollectionAlreadyExists()\n\u001b[1;32m    220\u001b[0m \u001b[39mif\u001b[39;00m primary_type\u001b[39m.\u001b[39mlower() \u001b[39mnot\u001b[39;00m \u001b[39min\u001b[39;00m VALID_PARTITION_TYPES:\n\u001b[1;32m    221\u001b[0m     \u001b[39mraise\u001b[39;00m simple_exception\u001b[39m.\u001b[39mInvalidPKFormat(\n\u001b[1;32m    222\u001b[0m         \u001b[39mf\u001b[39m\u001b[39m\"\u001b[39m\u001b[39mprimary_type must be in \u001b[39m\u001b[39m{\u001b[39;00mVALID_PARTITION_TYPES\u001b[39m}\u001b[39;00m\u001b[39m\"\u001b[39m\n\u001b[1;32m    223\u001b[0m     )\n",
      "\u001b[0;31mCollectionAlreadyExists\u001b[0m: <CollectionAlreadyExists: (code=1, message=)>"
     ]
    }
   ],
   "source": [
    "from milvus_haystack import MilvusDocumentStore\n",
    "\n",
    "ds = MilvusDocumentStore(recreate_index=False)\n",
    "ds.get_document_count()"
   ]
  },
  {
   "cell_type": "code",
   "execution_count": null,
   "metadata": {},
   "outputs": [],
   "source": []
  }
 ],
 "metadata": {
  "kernelspec": {
   "display_name": "milvus",
   "language": "python",
   "name": "python3"
  },
  "language_info": {
   "codemirror_mode": {
    "name": "ipython",
    "version": 3
   },
   "file_extension": ".py",
   "mimetype": "text/x-python",
   "name": "python",
   "nbconvert_exporter": "python",
   "pygments_lexer": "ipython3",
   "version": "3.11.4"
  },
  "orig_nbformat": 4
 },
 "nbformat": 4,
 "nbformat_minor": 2
}
